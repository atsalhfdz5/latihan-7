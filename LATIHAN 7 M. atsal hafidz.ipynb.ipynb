{
 "cells": [
  {
   "cell_type": "code",
   "execution_count": null,
   "id": "b0ba312a",
   "metadata": {},
   "outputs": [
    {
     "name": "stdout",
     "output_type": "stream",
     "text": [
      "-------------- kalkulator sederhana --------------\n",
      "==================== isi nama ====================\n",
      "1 Menghitung Luas Segitiga\n",
      "2 Menghitung Luas Persegi Panjang\n",
      "3 Menentukan Nomor Ganjil/Genap\n",
      "4 exit\n",
      "Pilih : 1\n",
      "\n",
      "Masukan Alas   : 10\n",
      "Masukan Tinggi : 10\n",
      "\n",
      "Luas Segitiga dari \n",
      "Alas   = 10\n",
      "Tinggi = 10 \n",
      "Dengan Rumus 1/2 x Alas x Tinggi\n",
      "Hasilnya = 50.0\n",
      "\n",
      "-------------- kalkulator sederhana --------------\n",
      "==================== isi nama ====================\n",
      "1 Menghitung Luas Segitiga\n",
      "2 Menghitung Luas Persegi Panjang\n",
      "3 Menentukan Nomor Ganjil/Genap\n",
      "4 exit\n"
     ]
    }
   ],
   "source": [
    "while True:\n",
    "    print(\" kalkulator sederhana \".center(50,\"-\"))\n",
    "    print(\" isi nama \".center(50,\"=\"))\n",
    "    print(\"\"\"1 Menghitung Luas Segitiga\n",
    "2 Menghitung Luas Persegi Panjang\n",
    "3 Menentukan Nomor Ganjil/Genap\n",
    "4 exit\"\"\")\n",
    "    opt = int(input(\"Pilih : \"))\n",
    "    if opt == 1:\n",
    "        alas = int(input(\"\\nMasukan Alas   : \"))\n",
    "        tinggi = int(input(\"Masukan Tinggi : \"))\n",
    "        print(f\"\\nLuas Segitiga dari \\nAlas   = {alas}\\nTinggi = {tinggi} \\nDengan Rumus 1/2 x Alas x Tinggi\\nHasilnya = {alas*tinggi*0.5}\\n\")\n",
    "    elif opt == 2:\n",
    "        panjang = int(input(\"\\nMasukan Panjang : \"))\n",
    "        lebar = int(input(\"Masukan Lebar   : \"))\n",
    "        print(f\"\\nLuas Persegi Panjang dari \\nPanjang = {panjang} \\nLebar = {lebar} \\nDengan Rumus Panjang x Lebar \\nHasilnya = {panjang*lebar}\\n\")\n",
    "    elif opt == 3:\n",
    "        num = int(input(\"\\nMasukan angka : \"))\n",
    "        if num % 2 == 0:\n",
    "            print(f\"{num} adalah genap\\n\")\n",
    "        else:\n",
    "            print(f\"{num} adalah ganjil\\n\")\n",
    "    elif opt == 4:\n",
    "        quit = input(\"\\nApakah Kamu Ingin Keluar (y/n) : \")\n",
    "        if quit == 'y':\n",
    "            print(\"terimakasih\")\n",
    "            break\n",
    "        else: continue\n",
    "    else:\n",
    "        print(\"ERROR - Angka yang anda masukan tidak ada didalam daftar\")"
   ]
  },
  {
   "cell_type": "code",
   "execution_count": null,
   "id": "d67e02e8",
   "metadata": {},
   "outputs": [],
   "source": []
  }
 ],
 "metadata": {
  "kernelspec": {
   "display_name": "Python 3 (ipykernel)",
   "language": "python",
   "name": "python3"
  },
  "language_info": {
   "codemirror_mode": {
    "name": "ipython",
    "version": 3
   },
   "file_extension": ".py",
   "mimetype": "text/x-python",
   "name": "python",
   "nbconvert_exporter": "python",
   "pygments_lexer": "ipython3",
   "version": "3.9.13"
  }
 },
 "nbformat": 4,
 "nbformat_minor": 5
}
